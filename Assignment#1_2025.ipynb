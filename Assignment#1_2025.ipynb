{
 "cells": [
  {
   "cell_type": "code",
   "execution_count": 1,
   "id": "8dbcf3d9",
   "metadata": {},
   "outputs": [],
   "source": [
    "import pandas as pd\n",
    "from matplotlib import pyplot as plt\n",
    "import seaborn as sns\n",
    "import warnings\n",
    "from scipy.stats import ttest_ind\n",
    "warnings.filterwarnings(\"ignore\")\n",
    "import os\n",
    "from statsmodels.stats.proportion import proportions_ztest\n",
    "import numpy as np\n",
    "import scipy.stats as stats\n",
    "import sys\n",
    "if not sys.warnoptions:\n",
    "    import warnings\n",
    "    warnings.simplefilter(\"ignore\")"
   ]
  },
  {
   "cell_type": "markdown",
   "id": "75215bd8",
   "metadata": {},
   "source": [
    "# Read file"
   ]
  },
  {
   "cell_type": "code",
   "execution_count": 2,
   "id": "a68edcef",
   "metadata": {},
   "outputs": [],
   "source": [
    "df_raw = pd.read_excel('UBER.xlsx', sheet_name ='Switchbacks' )"
   ]
  },
  {
   "cell_type": "code",
   "execution_count": 3,
   "id": "f373c5ff",
   "metadata": {
    "scrolled": true
   },
   "outputs": [
    {
     "data": {
      "text/html": [
       "<div>\n",
       "<style scoped>\n",
       "    .dataframe tbody tr th:only-of-type {\n",
       "        vertical-align: middle;\n",
       "    }\n",
       "\n",
       "    .dataframe tbody tr th {\n",
       "        vertical-align: top;\n",
       "    }\n",
       "\n",
       "    .dataframe thead th {\n",
       "        text-align: right;\n",
       "    }\n",
       "</style>\n",
       "<table border=\"1\" class=\"dataframe\">\n",
       "  <thead>\n",
       "    <tr style=\"text-align: right;\">\n",
       "      <th></th>\n",
       "      <th>city_id</th>\n",
       "      <th>period_start</th>\n",
       "      <th>wait_time</th>\n",
       "      <th>treat</th>\n",
       "      <th>commute</th>\n",
       "      <th>trips_pool</th>\n",
       "      <th>trips_express_pool</th>\n",
       "      <th>rider_cancellations</th>\n",
       "      <th>total_driver_payout</th>\n",
       "      <th>total_matches</th>\n",
       "      <th>total_double_matches</th>\n",
       "    </tr>\n",
       "  </thead>\n",
       "  <tbody>\n",
       "    <tr>\n",
       "      <th>0</th>\n",
       "      <td>Boston</td>\n",
       "      <td>2018-02-19 07:00:00</td>\n",
       "      <td>2 mins</td>\n",
       "      <td>False</td>\n",
       "      <td>True</td>\n",
       "      <td>1415</td>\n",
       "      <td>3245</td>\n",
       "      <td>256</td>\n",
       "      <td>34458.411634</td>\n",
       "      <td>3372</td>\n",
       "      <td>1476</td>\n",
       "    </tr>\n",
       "    <tr>\n",
       "      <th>1</th>\n",
       "      <td>Boston</td>\n",
       "      <td>2018-02-19 09:40:00</td>\n",
       "      <td>5 mins</td>\n",
       "      <td>True</td>\n",
       "      <td>False</td>\n",
       "      <td>1461</td>\n",
       "      <td>2363</td>\n",
       "      <td>203</td>\n",
       "      <td>29764.349821</td>\n",
       "      <td>2288</td>\n",
       "      <td>1275</td>\n",
       "    </tr>\n",
       "    <tr>\n",
       "      <th>2</th>\n",
       "      <td>Boston</td>\n",
       "      <td>2018-02-19 12:20:00</td>\n",
       "      <td>2 mins</td>\n",
       "      <td>False</td>\n",
       "      <td>False</td>\n",
       "      <td>1362</td>\n",
       "      <td>2184</td>\n",
       "      <td>118</td>\n",
       "      <td>27437.367363</td>\n",
       "      <td>2283</td>\n",
       "      <td>962</td>\n",
       "    </tr>\n",
       "    <tr>\n",
       "      <th>3</th>\n",
       "      <td>Boston</td>\n",
       "      <td>2018-02-19 15:00:00</td>\n",
       "      <td>5 mins</td>\n",
       "      <td>True</td>\n",
       "      <td>True</td>\n",
       "      <td>1984</td>\n",
       "      <td>3584</td>\n",
       "      <td>355</td>\n",
       "      <td>44995.452993</td>\n",
       "      <td>4035</td>\n",
       "      <td>2021</td>\n",
       "    </tr>\n",
       "    <tr>\n",
       "      <th>4</th>\n",
       "      <td>Boston</td>\n",
       "      <td>2018-02-19 17:40:00</td>\n",
       "      <td>2 mins</td>\n",
       "      <td>False</td>\n",
       "      <td>False</td>\n",
       "      <td>1371</td>\n",
       "      <td>2580</td>\n",
       "      <td>181</td>\n",
       "      <td>27583.955295</td>\n",
       "      <td>2200</td>\n",
       "      <td>979</td>\n",
       "    </tr>\n",
       "  </tbody>\n",
       "</table>\n",
       "</div>"
      ],
      "text/plain": [
       "  city_id        period_start wait_time  treat  commute  trips_pool  \\\n",
       "0  Boston 2018-02-19 07:00:00    2 mins  False     True        1415   \n",
       "1  Boston 2018-02-19 09:40:00    5 mins   True    False        1461   \n",
       "2  Boston 2018-02-19 12:20:00    2 mins  False    False        1362   \n",
       "3  Boston 2018-02-19 15:00:00    5 mins   True     True        1984   \n",
       "4  Boston 2018-02-19 17:40:00    2 mins  False    False        1371   \n",
       "\n",
       "   trips_express_pool  rider_cancellations  total_driver_payout  \\\n",
       "0                3245                  256         34458.411634   \n",
       "1                2363                  203         29764.349821   \n",
       "2                2184                  118         27437.367363   \n",
       "3                3584                  355         44995.452993   \n",
       "4                2580                  181         27583.955295   \n",
       "\n",
       "   total_matches  total_double_matches  \n",
       "0           3372                  1476  \n",
       "1           2288                  1275  \n",
       "2           2283                   962  \n",
       "3           4035                  2021  \n",
       "4           2200                   979  "
      ]
     },
     "execution_count": 3,
     "metadata": {},
     "output_type": "execute_result"
    }
   ],
   "source": [
    "df_raw.head()"
   ]
  },
  {
   "cell_type": "code",
   "execution_count": 4,
   "id": "9fcd2d57",
   "metadata": {},
   "outputs": [],
   "source": [
    "df_raw['total_ride'] = df_raw['trips_express_pool'] + df_raw['trips_pool']\n",
    "df_raw['cost_per_ride'] = df_raw['total_driver_payout']/df_raw['total_ride']\n",
    "df_raw['rider_cancellations_rate'] = df_raw['rider_cancellations']/df_raw['total_ride']"
   ]
  },
  {
   "cell_type": "markdown",
   "id": "901e6256",
   "metadata": {},
   "source": [
    "**Question 1 (2 Points)**.\tWrite a function to test the significance of the difference between the average cost per ride for a 2-minute versus a 5-minute wait time. Write hypotheses and draw conclusions based on results at 95% confidence interval."
   ]
  },
  {
   "cell_type": "code",
   "execution_count": 5,
   "id": "8d000b58",
   "metadata": {},
   "outputs": [],
   "source": [
    "from scipy.stats import ttest_ind"
   ]
  },
  {
   "cell_type": "code",
   "execution_count": 6,
   "id": "95fcd260",
   "metadata": {},
   "outputs": [
    {
     "data": {
      "text/html": [
       "<div>\n",
       "<style scoped>\n",
       "    .dataframe tbody tr th:only-of-type {\n",
       "        vertical-align: middle;\n",
       "    }\n",
       "\n",
       "    .dataframe tbody tr th {\n",
       "        vertical-align: top;\n",
       "    }\n",
       "\n",
       "    .dataframe thead th {\n",
       "        text-align: right;\n",
       "    }\n",
       "</style>\n",
       "<table border=\"1\" class=\"dataframe\">\n",
       "  <thead>\n",
       "    <tr style=\"text-align: right;\">\n",
       "      <th></th>\n",
       "      <th>wait_time</th>\n",
       "      <th>mean</th>\n",
       "      <th>std</th>\n",
       "      <th>count</th>\n",
       "    </tr>\n",
       "  </thead>\n",
       "  <tbody>\n",
       "    <tr>\n",
       "      <th>0</th>\n",
       "      <td>2 mins</td>\n",
       "      <td>29291.238922</td>\n",
       "      <td>5675.727426</td>\n",
       "      <td>63</td>\n",
       "    </tr>\n",
       "    <tr>\n",
       "      <th>1</th>\n",
       "      <td>5 mins</td>\n",
       "      <td>27183.202390</td>\n",
       "      <td>5043.154791</td>\n",
       "      <td>63</td>\n",
       "    </tr>\n",
       "  </tbody>\n",
       "</table>\n",
       "</div>"
      ],
      "text/plain": [
       "  wait_time          mean          std  count\n",
       "0    2 mins  29291.238922  5675.727426     63\n",
       "1    5 mins  27183.202390  5043.154791     63"
      ]
     },
     "execution_count": 6,
     "metadata": {},
     "output_type": "execute_result"
    }
   ],
   "source": [
    "df_raw.groupby('wait_time')['total_driver_payout'].agg(['mean', 'std', 'count']).reset_index()"
   ]
  },
  {
   "cell_type": "code",
   "execution_count": 7,
   "id": "1dd181d9",
   "metadata": {},
   "outputs": [],
   "source": [
    "group_2_min = df_raw[df_raw['wait_time'] == '2 mins']['cost_per_ride']\n",
    "group_5_min = df_raw[df_raw['wait_time'] == '5 mins']['cost_per_ride']"
   ]
  },
  {
   "cell_type": "code",
   "execution_count": 8,
   "id": "a41d6d50",
   "metadata": {},
   "outputs": [],
   "source": [
    "## 2-sided\n",
    "def test_avg_cost_difference(group_2_min, group_5_min):\n",
    "    \n",
    "    t_stat, p_value = ttest_ind(group_2_min, group_5_min, equal_var=False, alternative='two-sided') \n",
    "\n",
    "    print(f\"T-Statistic: {t_stat:.4f}, P-Value: {p_value:.4f}\")\n",
    "\n",
    "    if p_value < 0.05: \n",
    "        conclusion = \"Reject the null hypothesis\"\n",
    "    else:\n",
    "        conclusion = \"Fail to reject the null hypothesis.\"\n",
    "    \n",
    "    return t_stat, p_value, conclusion    "
   ]
  },
  {
   "cell_type": "code",
   "execution_count": 9,
   "id": "72230672",
   "metadata": {},
   "outputs": [
    {
     "name": "stdout",
     "output_type": "stream",
     "text": [
      "T-Statistic: 3.4621, P-Value: 0.0007\n"
     ]
    },
    {
     "data": {
      "text/plain": [
       "(3.4621410571047204, 0.0007361372933601304, 'Reject the null hypothesis')"
      ]
     },
     "execution_count": 9,
     "metadata": {},
     "output_type": "execute_result"
    }
   ],
   "source": [
    "## 2-sided\n",
    "test_avg_cost_difference(group_2_min, group_5_min)"
   ]
  },
  {
   "cell_type": "markdown",
   "id": "baed2cab",
   "metadata": {},
   "source": [
    "### 2-sided test hypothesis:\n",
    "\n",
    "- State your hypothesis (H0 & H1)\n",
    "\n",
    "Null Hypothesis (H0): There is no difference between the average cost per ride for a 2-minute versus a 5-minute wait time\n",
    "\n",
    "Alternative Hypothesis (H1): There is a significant difference between the average cost per ride for a 2-minute versus a 5-minute wait time\n",
    "\n",
    "- Set the level of significant (α)\n",
    "\n",
    "assume the level of significant is 5% (at 95% confidence level)\n",
    "\n",
    "- Drive test value by using proper statistical test\n",
    "\n",
    "t-test\n",
    "\n",
    "- Draw conclusion\n",
    "\n",
    "As we have a P-Value = 0.0007, we reject the null hypothesis, indicating that the average cost per ride is significantly different between 2-minute wait compared to 5-minute wait "
   ]
  },
  {
   "cell_type": "markdown",
   "id": "c0c0f22a",
   "metadata": {},
   "source": [
    "-----------------------------------------------------."
   ]
  },
  {
   "cell_type": "code",
   "execution_count": 10,
   "id": "92c979d5",
   "metadata": {},
   "outputs": [],
   "source": [
    "## one-sided\n",
    "def test_avg_cost_difference_1_side(group_2_min, group_5_min):\n",
    "    \n",
    "    t_stat, p_value = ttest_ind(group_2_min, group_5_min, equal_var=False, alternative='greater') \n",
    "\n",
    "    print(f\"T-Statistic: {t_stat:.4f}, P-Value: {p_value:.4f}\")\n",
    "\n",
    "    if p_value < 0.05: \n",
    "        conclusion = \"Reject the null hypothesis\"\n",
    "    else:\n",
    "        conclusion = \"Fail to reject the null hypothesis.\"\n",
    "    \n",
    "    return t_stat, p_value, conclusion    "
   ]
  },
  {
   "cell_type": "code",
   "execution_count": 11,
   "id": "5f612cd8",
   "metadata": {},
   "outputs": [
    {
     "name": "stdout",
     "output_type": "stream",
     "text": [
      "T-Statistic: 3.4621, P-Value: 0.0004\n"
     ]
    },
    {
     "data": {
      "text/plain": [
       "(3.4621410571047204, 0.0003680686466800652, 'Reject the null hypothesis')"
      ]
     },
     "execution_count": 11,
     "metadata": {},
     "output_type": "execute_result"
    }
   ],
   "source": [
    "## 1-sided\n",
    "test_avg_cost_difference_1_side(group_2_min, group_5_min)"
   ]
  },
  {
   "cell_type": "markdown",
   "id": "4f936b29",
   "metadata": {},
   "source": [
    "### 1-sided test hypothesis:\n",
    "\n",
    "- State your hypothesis (H0 & H1)\n",
    "\n",
    "Null Hypothesis (H0): The average cost per ride for a 2-minute wait time is lower or equal to the one for a 5-minute wait time\n",
    "\n",
    "Alternative Hypothesis (H1): The average cost per ride is higher for 2-minute wait compared to 5-minute wait times\n",
    "\n",
    "- Set the level of significant (α)\n",
    "\n",
    "assume the level of significant is 5% (at 95% confidence level)\n",
    "\n",
    "- Drive test value by using proper statistical test\n",
    "\n",
    "t-test\n",
    "\n",
    "- Draw conclusion\n",
    "\n",
    "As we have a P-Value = 0.0004, we Reject the null hypothesis, indicating that the average cost per ride is significantly higher for 2-minute wait times compared to 5-minute wait times"
   ]
  },
  {
   "cell_type": "markdown",
   "id": "e69b5411-51bc-46a0-9d0f-95237e36bd5c",
   "metadata": {},
   "source": [
    "**Question 2(2 Points)**. Use the same function to test the significance of the difference between the average cost per ride for a 2-minute versus a 5-minute wait time during commute and non-commute hours. Write hypotheses and draw conclusions based on results at 95% confidence interval."
   ]
  },
  {
   "cell_type": "markdown",
   "id": "f15e27ab",
   "metadata": {},
   "source": [
    "- Commute Hours: Compare costs for 2-min vs. 5-min wait during commute hours\n",
    "\n",
    "- Non-Commute Hours: Compare costs for 2-min vs. 5-min wait during non-commute hours"
   ]
  },
  {
   "cell_type": "markdown",
   "id": "d4c89f33",
   "metadata": {},
   "source": [
    "### commute"
   ]
  },
  {
   "cell_type": "code",
   "execution_count": 12,
   "id": "f7a996ba",
   "metadata": {},
   "outputs": [],
   "source": [
    "group_2_min = df_raw[df_raw['wait_time'] == '2 mins']\n",
    "group_5_min = df_raw[df_raw['wait_time'] == '5 mins']\n",
    "group_2_min_commute = group_2_min[group_2_min['commute'] == True]\n",
    "group_2_min_non_commute = group_2_min[group_2_min['commute'] == False]\n",
    "group_5_min_commute = group_5_min[group_5_min['commute'] == True]\n",
    "group_5_min_non_commute = group_5_min[group_5_min['commute'] == False]"
   ]
  },
  {
   "cell_type": "code",
   "execution_count": 13,
   "id": "ef3b92ed",
   "metadata": {},
   "outputs": [
    {
     "data": {
      "text/html": [
       "<div>\n",
       "<style scoped>\n",
       "    .dataframe tbody tr th:only-of-type {\n",
       "        vertical-align: middle;\n",
       "    }\n",
       "\n",
       "    .dataframe tbody tr th {\n",
       "        vertical-align: top;\n",
       "    }\n",
       "\n",
       "    .dataframe thead th {\n",
       "        text-align: right;\n",
       "    }\n",
       "</style>\n",
       "<table border=\"1\" class=\"dataframe\">\n",
       "  <thead>\n",
       "    <tr style=\"text-align: right;\">\n",
       "      <th></th>\n",
       "      <th>commute</th>\n",
       "      <th>mean</th>\n",
       "      <th>std</th>\n",
       "      <th>count</th>\n",
       "    </tr>\n",
       "  </thead>\n",
       "  <tbody>\n",
       "    <tr>\n",
       "      <th>0</th>\n",
       "      <td>False</td>\n",
       "      <td>7.280393</td>\n",
       "      <td>0.595932</td>\n",
       "      <td>53</td>\n",
       "    </tr>\n",
       "    <tr>\n",
       "      <th>1</th>\n",
       "      <td>True</td>\n",
       "      <td>7.812577</td>\n",
       "      <td>0.429094</td>\n",
       "      <td>10</td>\n",
       "    </tr>\n",
       "  </tbody>\n",
       "</table>\n",
       "</div>"
      ],
      "text/plain": [
       "   commute      mean       std  count\n",
       "0    False  7.280393  0.595932     53\n",
       "1     True  7.812577  0.429094     10"
      ]
     },
     "execution_count": 13,
     "metadata": {},
     "output_type": "execute_result"
    }
   ],
   "source": [
    "group_2_min.groupby('commute')['cost_per_ride'].agg(['mean', 'std', 'count']).reset_index()"
   ]
  },
  {
   "cell_type": "code",
   "execution_count": 14,
   "id": "837aa099",
   "metadata": {},
   "outputs": [
    {
     "data": {
      "text/html": [
       "<div>\n",
       "<style scoped>\n",
       "    .dataframe tbody tr th:only-of-type {\n",
       "        vertical-align: middle;\n",
       "    }\n",
       "\n",
       "    .dataframe tbody tr th {\n",
       "        vertical-align: top;\n",
       "    }\n",
       "\n",
       "    .dataframe thead th {\n",
       "        text-align: right;\n",
       "    }\n",
       "</style>\n",
       "<table border=\"1\" class=\"dataframe\">\n",
       "  <thead>\n",
       "    <tr style=\"text-align: right;\">\n",
       "      <th></th>\n",
       "      <th>commute</th>\n",
       "      <th>mean</th>\n",
       "      <th>std</th>\n",
       "      <th>count</th>\n",
       "    </tr>\n",
       "  </thead>\n",
       "  <tbody>\n",
       "    <tr>\n",
       "      <th>0</th>\n",
       "      <td>False</td>\n",
       "      <td>6.877672</td>\n",
       "      <td>0.575014</td>\n",
       "      <td>53</td>\n",
       "    </tr>\n",
       "    <tr>\n",
       "      <th>1</th>\n",
       "      <td>True</td>\n",
       "      <td>7.569325</td>\n",
       "      <td>0.546833</td>\n",
       "      <td>10</td>\n",
       "    </tr>\n",
       "  </tbody>\n",
       "</table>\n",
       "</div>"
      ],
      "text/plain": [
       "   commute      mean       std  count\n",
       "0    False  6.877672  0.575014     53\n",
       "1     True  7.569325  0.546833     10"
      ]
     },
     "execution_count": 14,
     "metadata": {},
     "output_type": "execute_result"
    }
   ],
   "source": [
    "group_5_min.groupby('commute')['cost_per_ride'].agg(['mean', 'std', 'count']).reset_index()"
   ]
  },
  {
   "cell_type": "code",
   "execution_count": 15,
   "id": "433b8e3e",
   "metadata": {},
   "outputs": [],
   "source": [
    "commute_2 = group_2_min_commute['cost_per_ride']\n",
    "commute_5 = group_5_min_commute['cost_per_ride']"
   ]
  },
  {
   "cell_type": "code",
   "execution_count": 16,
   "id": "7c4ff884",
   "metadata": {},
   "outputs": [],
   "source": [
    "def test_avg_cost_difference(commute_2, commute_5):\n",
    "    \n",
    "    t_stat, p_value = ttest_ind(commute_2, commute_5, equal_var=False, alternative='two-sided') \n",
    "\n",
    "    print(f\"T-Statistic: {t_stat:.4f}, P-Value: {p_value:.4f}\")\n",
    "\n",
    "    if p_value < 0.05: \n",
    "        conclusion = \"Reject the null hypothesis\"\n",
    "    else:\n",
    "        conclusion = \"Fail to reject the null hypothesis.\"\n",
    "    \n",
    "    return t_stat, p_value, conclusion    "
   ]
  },
  {
   "cell_type": "code",
   "execution_count": 17,
   "id": "c7eb6e32",
   "metadata": {},
   "outputs": [
    {
     "name": "stdout",
     "output_type": "stream",
     "text": [
      "T-Statistic: 1.1067, P-Value: 0.2838\n"
     ]
    },
    {
     "data": {
      "text/plain": [
       "(1.106665299623298, 0.28382083200834396, 'Fail to reject the null hypothesis.')"
      ]
     },
     "execution_count": 17,
     "metadata": {},
     "output_type": "execute_result"
    }
   ],
   "source": [
    "test_avg_cost_difference(commute_2, commute_5)"
   ]
  },
  {
   "cell_type": "markdown",
   "id": "29b67ba8",
   "metadata": {},
   "source": [
    "### 2-sided test hypothesis:\n",
    "\n",
    "- State your hypothesis (H0 & H1)\n",
    "\n",
    "Null Hypothesis (H0): There is no difference between the average cost per ride for a 2-minute versus a 5-minute wait during commute hour\n",
    "\n",
    "Alternative Hypothesis (H1): There is a significant difference between the average cost per ride for a 2-minute versus a 5-minute wait during commute hour\n",
    "\n",
    "\n",
    "- Set the level of significant (α)\n",
    "\n",
    "assume the level of significant is 5% (at 95% confidence level)\n",
    "\n",
    "- Drive test value by using proper statistical test\n",
    "\n",
    "t-test\n",
    "\n",
    "- Draw conclusion\n",
    "\n",
    "The p-value is 0.2838, so we fail to reject the null hypothesis. This indicate that during commute hour, there's no difference for the average cost per ride for a 2-minute versus a 5-minute wait time"
   ]
  },
  {
   "cell_type": "markdown",
   "id": "5aae7c0f",
   "metadata": {},
   "source": [
    "### non-commute"
   ]
  },
  {
   "cell_type": "code",
   "execution_count": 18,
   "id": "a6c5324e",
   "metadata": {},
   "outputs": [],
   "source": [
    "non_commute_2 = group_2_min_non_commute['cost_per_ride']\n",
    "non_commute_5 = group_5_min_non_commute['cost_per_ride']"
   ]
  },
  {
   "cell_type": "code",
   "execution_count": 19,
   "id": "1e5e69e5",
   "metadata": {},
   "outputs": [
    {
     "name": "stdout",
     "output_type": "stream",
     "text": [
      "T-Statistic: 3.5404, P-Value: 0.0006\n"
     ]
    },
    {
     "data": {
      "text/plain": [
       "(3.540390260189291, 0.000599478655763849, 'Reject the null hypothesis')"
      ]
     },
     "execution_count": 19,
     "metadata": {},
     "output_type": "execute_result"
    }
   ],
   "source": [
    "test_avg_cost_difference(non_commute_2, non_commute_5)"
   ]
  },
  {
   "cell_type": "markdown",
   "id": "53234dc2",
   "metadata": {},
   "source": [
    "### 2-sided test hypothesis:\n",
    "\n",
    "- State your hypothesis (H0 & H1)\n",
    "\n",
    "Null Hypothesis (H0): There is no difference between the average cost per ride for a 2-minute versus a 5-minute wait during non-commute hour\n",
    "\n",
    "Alternative Hypothesis (H1): There is a significant difference between the average cost per ride for a 2-minute versus a 5-minute wait during non-commute hour\n",
    "\n",
    "\n",
    "- Set the level of significant (α)\n",
    "\n",
    "assume the level of significant is 5% (at 95% confidence level)\n",
    "\n",
    "- Drive test value by using proper statistical test\n",
    "\n",
    "t-test\n",
    "\n",
    "- Draw conclusion\n",
    "\n",
    "The p-value is 0.0006, so we reject the null hypothesis. This indicate that during non-commute hour, there is a significant difference between the average cost per ride for a 2-minute wait vs. a 5-minute wait"
   ]
  },
  {
   "cell_type": "markdown",
   "id": "e63491bb",
   "metadata": {},
   "source": [
    "---------------------------------."
   ]
  },
  {
   "cell_type": "code",
   "execution_count": 20,
   "id": "789b5595",
   "metadata": {},
   "outputs": [
    {
     "name": "stdout",
     "output_type": "stream",
     "text": [
      "T-Statistic: 3.5404, P-Value: 0.0003\n"
     ]
    },
    {
     "data": {
      "text/plain": [
       "(3.540390260189291, 0.0002997393278819245, 'Reject the null hypothesis')"
      ]
     },
     "execution_count": 20,
     "metadata": {},
     "output_type": "execute_result"
    }
   ],
   "source": [
    "test_avg_cost_difference_1_side(non_commute_2, non_commute_5)"
   ]
  },
  {
   "cell_type": "markdown",
   "id": "aed9e3eb",
   "metadata": {},
   "source": [
    "### 1-sided test hypothesis:\n",
    "\n",
    "- State your hypothesis (H0 & H1)\n",
    "\n",
    "Null Hypothesis (H0): The average cost per ride for a 2-minute waitis lower or equal to a 5-minute wait during non-commute hour\n",
    "\n",
    "Alternative Hypothesis (H1): The average cost per ride for a 2-minute waitis significantly higher than a 5-minute wait during non-commute hour\n",
    "\n",
    "- Set the level of significant (α)\n",
    "\n",
    "assume the level of significant is 5% (at 95% confidence level)\n",
    "\n",
    "- Drive test value by using proper statistical test\n",
    "\n",
    "t-test\n",
    "\n",
    "- Draw conclusion\n",
    "\n",
    "As p-value is 0.0003, we Reject the null hypothesis, indicating that the average cost per ride is significantly higher for 2-minute wait times compared to 5-minute wait during non-commute hour"
   ]
  },
  {
   "cell_type": "markdown",
   "id": "c6c35635-a5e7-4deb-b7b9-ab976b573d2c",
   "metadata": {},
   "source": [
    "**Question 3(2 Points).** Write a function to test the significance of the difference between the ride cancellation rate for a 2-minute versus a 5-minute wait time. Write hypotheses and draw conclusions based on results\tat 95% confidence interval."
   ]
  },
  {
   "cell_type": "code",
   "execution_count": 21,
   "id": "9a40b4b2",
   "metadata": {},
   "outputs": [],
   "source": [
    "from statsmodels.stats.proportion import proportions_ztest"
   ]
  },
  {
   "cell_type": "code",
   "execution_count": 22,
   "id": "5724f2a1",
   "metadata": {},
   "outputs": [],
   "source": [
    "group_2_min = df_raw[df_raw['wait_time'] == '2 mins']\n",
    "group_5_min = df_raw[df_raw['wait_time'] == '5 mins']"
   ]
  },
  {
   "cell_type": "code",
   "execution_count": 23,
   "id": "3adc8564",
   "metadata": {},
   "outputs": [
    {
     "data": {
      "text/html": [
       "<div>\n",
       "<style scoped>\n",
       "    .dataframe tbody tr th:only-of-type {\n",
       "        vertical-align: middle;\n",
       "    }\n",
       "\n",
       "    .dataframe tbody tr th {\n",
       "        vertical-align: top;\n",
       "    }\n",
       "\n",
       "    .dataframe thead th {\n",
       "        text-align: right;\n",
       "    }\n",
       "</style>\n",
       "<table border=\"1\" class=\"dataframe\">\n",
       "  <thead>\n",
       "    <tr style=\"text-align: right;\">\n",
       "      <th></th>\n",
       "      <th>wait_time</th>\n",
       "      <th>mean</th>\n",
       "      <th>std</th>\n",
       "      <th>count</th>\n",
       "    </tr>\n",
       "  </thead>\n",
       "  <tbody>\n",
       "    <tr>\n",
       "      <th>0</th>\n",
       "      <td>2 mins</td>\n",
       "      <td>0.041216</td>\n",
       "      <td>0.006393</td>\n",
       "      <td>63</td>\n",
       "    </tr>\n",
       "    <tr>\n",
       "      <th>1</th>\n",
       "      <td>5 mins</td>\n",
       "      <td>0.048504</td>\n",
       "      <td>0.008354</td>\n",
       "      <td>63</td>\n",
       "    </tr>\n",
       "  </tbody>\n",
       "</table>\n",
       "</div>"
      ],
      "text/plain": [
       "  wait_time      mean       std  count\n",
       "0    2 mins  0.041216  0.006393     63\n",
       "1    5 mins  0.048504  0.008354     63"
      ]
     },
     "execution_count": 23,
     "metadata": {},
     "output_type": "execute_result"
    }
   ],
   "source": [
    "df_raw.groupby('wait_time')['rider_cancellations_rate'].agg(['mean', 'std', 'count']).reset_index()"
   ]
  },
  {
   "cell_type": "code",
   "execution_count": 24,
   "id": "88c83f80",
   "metadata": {},
   "outputs": [],
   "source": [
    "## two_sided \n",
    "def test_cancel_rate_difference(df, group_2_min, group_5_min):\n",
    "\n",
    "\n",
    "    # total cancellations & total rides \n",
    "    cancellations_2min = group_2_min['rider_cancellations'].sum()\n",
    "    total_rides_2min = group_2_min['total_ride'].sum()\n",
    "\n",
    "    cancellations_5min = group_5_min['rider_cancellations'].sum()\n",
    "    total_rides_5min = group_5_min['total_ride'].sum()\n",
    "\n",
    "    # Z-test\n",
    "    stat, p_value = proportions_ztest([cancellations_2min, cancellations_5min], [total_rides_2min, total_rides_5min])\n",
    "\n",
    "\n",
    "    if p_value < 0.05:\n",
    "        conclusion = \"Reject the null hypothesis: There is a significant difference in cancellation rates.\"\n",
    "    else:\n",
    "        conclusion = \"Fail to reject the null hypothesis: No significant difference in cancellation rates.\"\n",
    "\n",
    "    return stat, p_value, conclusion"
   ]
  },
  {
   "cell_type": "code",
   "execution_count": 25,
   "id": "ad02d9cb",
   "metadata": {},
   "outputs": [
    {
     "data": {
      "text/plain": [
       "(-12.372607519828444,\n",
       " 3.676879568995279e-35,\n",
       " 'Reject the null hypothesis: There is a significant difference in cancellation rates.')"
      ]
     },
     "execution_count": 25,
     "metadata": {},
     "output_type": "execute_result"
    }
   ],
   "source": [
    "test_cancel_rate_difference(df_raw, group_2_min, group_5_min)"
   ]
  },
  {
   "cell_type": "markdown",
   "id": "82f9d68a",
   "metadata": {},
   "source": [
    "### 2-sided test hypothesis:\n",
    "\n",
    "- State your hypothesis (H0 & H1)\n",
    "\n",
    "Null Hypothesis (H0): There is no difference between the cancellation rate for a 2-minute versus a 5-minute wait \n",
    "\n",
    "Alternative Hypothesis (H1): There is a significant difference between the cancellation rate for a 2-minute versus a 5-minute wait\n",
    "\n",
    "- Set the level of significant (α)\n",
    "\n",
    "assume the level of significant is 5% (at 95% confidence level)\n",
    "\n",
    "- Drive test value by using proper statistical test\n",
    "\n",
    "z-test\n",
    "\n",
    "- draw conclusion\n",
    "\n",
    "The p-value is close to 0 (3.676879568995279e-35), so we reject the null hypothesis. There is a significant difference in cancellation rates for a 2-minute versus a 5-minute wait"
   ]
  },
  {
   "cell_type": "markdown",
   "id": "2ff0feb5",
   "metadata": {},
   "source": [
    "----------------------------------."
   ]
  },
  {
   "cell_type": "code",
   "execution_count": 26,
   "id": "d5ba0eb1",
   "metadata": {},
   "outputs": [],
   "source": [
    "## one_sided \n",
    "def one_side_cancel_rate_difference(df, group_2_min, group_5_min):\n",
    "\n",
    "\n",
    "    # total cancellations & total rides\n",
    "    cancellations_2min = group_2_min['rider_cancellations'].sum()\n",
    "    total_rides_2min = group_2_min['total_ride'].sum()\n",
    "\n",
    "    cancellations_5min = group_5_min['rider_cancellations'].sum()\n",
    "    total_rides_5min = group_5_min['total_ride'].sum()\n",
    "\n",
    "    # Z-test\n",
    "    stat, p_value = proportions_ztest([cancellations_2min, cancellations_5min], \n",
    "                                      [total_rides_2min, total_rides_5min],\n",
    "                                     alternative = 'smaller')\n",
    "\n",
    "    if p_value < 0.05:\n",
    "        conclusion = \"Reject the null hypothesis: The 2-min wait cancellation rate is significantly lower.\"\n",
    "    else:\n",
    "        conclusion = \"Fail to reject the null hypothesis: The 2-min wait cancellation rate is greater or equal to the 5-min wait.\"\n",
    "\n",
    "    return stat, p_value, conclusion"
   ]
  },
  {
   "cell_type": "code",
   "execution_count": 27,
   "id": "f44e3f7a",
   "metadata": {},
   "outputs": [
    {
     "data": {
      "text/plain": [
       "(-12.372607519828444,\n",
       " 1.8384397844976394e-35,\n",
       " 'Reject the null hypothesis: The 2-min wait cancellation rate is significantly lower.')"
      ]
     },
     "execution_count": 27,
     "metadata": {},
     "output_type": "execute_result"
    }
   ],
   "source": [
    "one_side_cancel_rate_difference(df_raw, group_2_min, group_5_min)"
   ]
  },
  {
   "cell_type": "markdown",
   "id": "3044615c",
   "metadata": {},
   "source": [
    "### 1-sided test hypothesis:\n",
    "\n",
    "- State your hypothesis (H0 & H1)\n",
    "\n",
    "Null Hypothesis (H0): The average cost per ride for a 5-minute wait time is higher than the one for a 2-minute wait time\n",
    "\n",
    "Alternative Hypothesis (H1): The average cost per ride for a 5-minute wait time is less than or equal to the one for a 2-minute wait time\n",
    "\n",
    "- Set the level of significant (α)\n",
    "\n",
    "assume the level of significant is 5% (at 95% confidence level)\n",
    "\n",
    "- Drive test value by using proper statistical test\n",
    "\n",
    "Z-test\n",
    "\n",
    "- draw conclusion\n",
    "\n",
    "The p-value is close to 0 (1.8384397844976394e-35), so we reject the null hypothesis. This indicate that the cancellation rates for a 2-minute is significantly lower than the one for 5-minute wait"
   ]
  },
  {
   "cell_type": "markdown",
   "id": "a68c96c0-0c1a-4d02-8da5-8da00391e423",
   "metadata": {},
   "source": [
    "**Question 4(2 Points)**. Use the same  function to test the significance of the difference between the cancellation rate for a 2-minute versus a 5-minute wait time during commute hours. Write hypotheses and draw conclusions based on results at 95% confidence interval"
   ]
  },
  {
   "cell_type": "code",
   "execution_count": 28,
   "id": "89652154",
   "metadata": {},
   "outputs": [],
   "source": [
    "group_2_min = df_raw[df_raw['wait_time'] == '2 mins']\n",
    "group_5_min = df_raw[df_raw['wait_time'] == '5 mins']\n",
    "group_2_min_commute = group_2_min[group_2_min['commute'] == True]\n",
    "group_2_min_non_commute = group_2_min[group_2_min['commute'] == False]\n",
    "group_5_min_commute = group_5_min[group_5_min['commute'] == True]\n",
    "group_5_min_non_commute = group_5_min[group_5_min['commute'] == False]"
   ]
  },
  {
   "cell_type": "code",
   "execution_count": 29,
   "id": "74a0a433",
   "metadata": {},
   "outputs": [
    {
     "data": {
      "text/html": [
       "<div>\n",
       "<style scoped>\n",
       "    .dataframe tbody tr th:only-of-type {\n",
       "        vertical-align: middle;\n",
       "    }\n",
       "\n",
       "    .dataframe tbody tr th {\n",
       "        vertical-align: top;\n",
       "    }\n",
       "\n",
       "    .dataframe thead th {\n",
       "        text-align: right;\n",
       "    }\n",
       "</style>\n",
       "<table border=\"1\" class=\"dataframe\">\n",
       "  <thead>\n",
       "    <tr style=\"text-align: right;\">\n",
       "      <th></th>\n",
       "      <th>commute</th>\n",
       "      <th>mean</th>\n",
       "      <th>std</th>\n",
       "      <th>count</th>\n",
       "    </tr>\n",
       "  </thead>\n",
       "  <tbody>\n",
       "    <tr>\n",
       "      <th>0</th>\n",
       "      <td>False</td>\n",
       "      <td>0.039820</td>\n",
       "      <td>0.005504</td>\n",
       "      <td>53</td>\n",
       "    </tr>\n",
       "    <tr>\n",
       "      <th>1</th>\n",
       "      <td>True</td>\n",
       "      <td>0.048614</td>\n",
       "      <td>0.005848</td>\n",
       "      <td>10</td>\n",
       "    </tr>\n",
       "  </tbody>\n",
       "</table>\n",
       "</div>"
      ],
      "text/plain": [
       "   commute      mean       std  count\n",
       "0    False  0.039820  0.005504     53\n",
       "1     True  0.048614  0.005848     10"
      ]
     },
     "execution_count": 29,
     "metadata": {},
     "output_type": "execute_result"
    }
   ],
   "source": [
    "group_2_min.groupby('commute')['rider_cancellations_rate'].agg(['mean', 'std', 'count']).reset_index()"
   ]
  },
  {
   "cell_type": "code",
   "execution_count": 30,
   "id": "9d01f942",
   "metadata": {},
   "outputs": [
    {
     "data": {
      "text/html": [
       "<div>\n",
       "<style scoped>\n",
       "    .dataframe tbody tr th:only-of-type {\n",
       "        vertical-align: middle;\n",
       "    }\n",
       "\n",
       "    .dataframe tbody tr th {\n",
       "        vertical-align: top;\n",
       "    }\n",
       "\n",
       "    .dataframe thead th {\n",
       "        text-align: right;\n",
       "    }\n",
       "</style>\n",
       "<table border=\"1\" class=\"dataframe\">\n",
       "  <thead>\n",
       "    <tr style=\"text-align: right;\">\n",
       "      <th></th>\n",
       "      <th>commute</th>\n",
       "      <th>mean</th>\n",
       "      <th>std</th>\n",
       "      <th>count</th>\n",
       "    </tr>\n",
       "  </thead>\n",
       "  <tbody>\n",
       "    <tr>\n",
       "      <th>0</th>\n",
       "      <td>False</td>\n",
       "      <td>0.045492</td>\n",
       "      <td>0.004647</td>\n",
       "      <td>53</td>\n",
       "    </tr>\n",
       "    <tr>\n",
       "      <th>1</th>\n",
       "      <td>True</td>\n",
       "      <td>0.064472</td>\n",
       "      <td>0.004379</td>\n",
       "      <td>10</td>\n",
       "    </tr>\n",
       "  </tbody>\n",
       "</table>\n",
       "</div>"
      ],
      "text/plain": [
       "   commute      mean       std  count\n",
       "0    False  0.045492  0.004647     53\n",
       "1     True  0.064472  0.004379     10"
      ]
     },
     "execution_count": 30,
     "metadata": {},
     "output_type": "execute_result"
    }
   ],
   "source": [
    "group_5_min.groupby('commute')['rider_cancellations_rate'].agg(['mean', 'std', 'count']).reset_index()"
   ]
  },
  {
   "cell_type": "code",
   "execution_count": 31,
   "id": "27b7a42c",
   "metadata": {},
   "outputs": [],
   "source": [
    "## two-sided\n",
    "def test_cancel_rate_difference(df, group_2_min, group_5_min):\n",
    "\n",
    "    # total cancellations & total rides\n",
    "    cancellations_2min = group_2_min['rider_cancellations'].sum()\n",
    "    total_rides_2min = group_2_min['total_ride'].sum()\n",
    "\n",
    "    cancellations_5min = group_5_min['rider_cancellations'].sum()\n",
    "    total_rides_5min = group_5_min['total_ride'].sum()\n",
    "    \n",
    "    # Z-test\n",
    "    stat, p_value = proportions_ztest([cancellations_2min, cancellations_5min], [total_rides_2min, total_rides_5min])\n",
    "\n",
    "    if p_value < 0.05:\n",
    "        conclusion = \"Reject the null hypothesis: There is a significant difference in cancellation rates.\"\n",
    "    else:\n",
    "        conclusion = \"Fail to reject the null hypothesis: No significant difference in cancellation rates.\"\n",
    "\n",
    "    return stat, p_value, conclusion"
   ]
  },
  {
   "cell_type": "code",
   "execution_count": 32,
   "id": "97907519",
   "metadata": {},
   "outputs": [
    {
     "data": {
      "text/plain": [
       "(-10.335093413241797,\n",
       " 4.889354936805803e-25,\n",
       " 'Reject the null hypothesis: There is a significant difference in cancellation rates.')"
      ]
     },
     "execution_count": 32,
     "metadata": {},
     "output_type": "execute_result"
    }
   ],
   "source": [
    "test_cancel_rate_difference(df_raw, group_2_min_commute, group_5_min_commute)"
   ]
  },
  {
   "cell_type": "markdown",
   "id": "06e11dc6",
   "metadata": {},
   "source": [
    "### 2-sided test hypothesis:\n",
    "\n",
    "- State your hypothesis (H0 & H1)\n",
    "\n",
    "Null Hypothesis (H0): There is no difference between the cancellation rate for a 2-minute versus a 5-minute wait during commute hour\n",
    "\n",
    "Alternative Hypothesis (H1): There is a significant difference between the cancellation rate for a 2-minute versus a 5-minute wait during commute hour\n",
    "\n",
    "- Set the level of significant (α)\n",
    "\n",
    "assume the level of significant is 5% (at 95% confidence level)\n",
    "\n",
    "- Drive test value by using proper statistical test\n",
    "\n",
    "z-test\n",
    "\n",
    "- draw conclusion\n",
    "\n",
    "The p-value is close to 0 (4.889354936805803e-25), so we reject the null hypothesis. There is a significant difference in cancellation rates for a 2-minute versus a 5-minute wait during commute hour"
   ]
  },
  {
   "cell_type": "markdown",
   "id": "3d36372c",
   "metadata": {},
   "source": [
    "------------------------."
   ]
  },
  {
   "cell_type": "code",
   "execution_count": 33,
   "id": "6e1621b6",
   "metadata": {},
   "outputs": [],
   "source": [
    "## one-sided\n",
    "def one_side_cancel_rate_difference(df, group_2_min, group_5_min):\n",
    "\n",
    "\n",
    "    # total cancellations & total rides\n",
    "    cancellations_2min = group_2_min['rider_cancellations'].sum()\n",
    "    total_rides_2min = group_2_min['total_ride'].sum()\n",
    "\n",
    "    cancellations_5min = group_5_min['rider_cancellations'].sum()\n",
    "    total_rides_5min = group_5_min['total_ride'].sum()\n",
    "\n",
    "    # Z-test\n",
    "    stat, p_value = proportions_ztest([cancellations_2min, cancellations_5min], \n",
    "                                      [total_rides_2min, total_rides_5min],\n",
    "                                     alternative = 'smaller')\n",
    "\n",
    "    if p_value < 0.05:\n",
    "        conclusion = \"Reject the null hypothesis: The 2-min wait cancellation rate is significantly lower during commute hour.\"\n",
    "    else:\n",
    "        conclusion = \"Fail to reject the null hypothesis: The 2-min wait cancellation rate is greater or equal to the 5-min wait during commute hour.\"\n",
    "\n",
    "    return stat, p_value, conclusion"
   ]
  },
  {
   "cell_type": "code",
   "execution_count": 34,
   "id": "a14c9744",
   "metadata": {},
   "outputs": [
    {
     "data": {
      "text/plain": [
       "(-12.372607519828444,\n",
       " 1.8384397844976394e-35,\n",
       " 'Reject the null hypothesis: The 2-min wait cancellation rate is significantly lower during commute hour.')"
      ]
     },
     "execution_count": 34,
     "metadata": {},
     "output_type": "execute_result"
    }
   ],
   "source": [
    "one_side_cancel_rate_difference(df_raw, group_2_min, group_5_min)"
   ]
  },
  {
   "cell_type": "markdown",
   "id": "da1a5c1d",
   "metadata": {},
   "source": [
    "### 1-sided test hypothesis:\n",
    "\n",
    "- State your hypothesis (H0 & H1)\n",
    "\n",
    "Null Hypothesis (H0): The 2-min wait cancellation rate is greater or equal to 5-min wait cancellation rate during commute hour\n",
    "\n",
    "Alternative Hypothesis (H1): The 2-min wait cancellation rate is lower than the 5-min wait during commute hour\n",
    "\n",
    "- Set the level of significant (α)\n",
    "\n",
    "assume the level of significant is 5% (at 95% confidence level)\n",
    "\n",
    "- Drive test value by using proper statistical test\n",
    "\n",
    "z-test\n",
    "\n",
    "- draw conclusion\n",
    "\n",
    "The p-value is close to 0 (1.8384397844976394e-35), so we reject the null hypothesis. This indicates that the 2-min wait cancellation rate is significantly lower than the 5-min wait cancellation rate during commute hour"
   ]
  },
  {
   "cell_type": "markdown",
   "id": "9ba85cda-1939-4a2e-bb65-7603df997ad0",
   "metadata": {},
   "source": [
    "**Question 5(2 Points)**.\tBased on the data available to you and test analysis results, what would you recommend doing? Would you increase the wait time from 2 to 5 minutes in the six treatment cities of the launch experiment? (explain in words)"
   ]
  },
  {
   "cell_type": "markdown",
   "id": "86dc05ed",
   "metadata": {},
   "source": [
    "**From the result we have:**\n",
    "\n",
    "In terms of average cost, there's a significant difference of average cost between 5-min wait and 2-min wait. But when we look into the commute hour and non-commute hour, we find out that during the commute hour, the average cost between 5-min wait and 2-min wait is actually no difference. In comparison, during the non-commute hour, there is a significant differnce of average cost between 2-min wait and 5-min wait. By running 1-sided hypothesis test, we find out that the average cost for 2-min wait is higher than the one for 5-min wait. \n",
    "\n",
    "In terms of cancellation rate, the 2-min wait cancellation rate is significantly lower than 5-min wait, for both all hours (commute + non-commute) and commute hour. \n",
    "\n",
    "Thus, I recommend to add *cummute hour* as our consideration. In other words, during the commute hour, as there is no difference of the cost between 2 waiting groups, but 2-min wait has lower cancellation rate. In this case, for higher efficiency and profit, we will assign more 2-min wait (decrease the wait time from 5 to 2 min). During the non-commute hour, we will assign more 2-min wait (increase the wait time from 2 to 5 min).\n",
    "\n",
    "**In summary**, whether increase or decrease the wait time depends on whether the hour is commute hour or not. Thus, I will increase the wait time from 2 to 5 minutes during non-commute hour (in the six treatment cities of the launch experiment). However, I will decrease the wait time from 5 to 2 minutes during commute hour (in the six treatment cities of the launch experiment)."
   ]
  }
 ],
 "metadata": {
  "kernelspec": {
   "display_name": "Python 3 (ipykernel)",
   "language": "python",
   "name": "python3"
  },
  "language_info": {
   "codemirror_mode": {
    "name": "ipython",
    "version": 3
   },
   "file_extension": ".py",
   "mimetype": "text/x-python",
   "name": "python",
   "nbconvert_exporter": "python",
   "pygments_lexer": "ipython3",
   "version": "3.11.6"
  }
 },
 "nbformat": 4,
 "nbformat_minor": 5
}
